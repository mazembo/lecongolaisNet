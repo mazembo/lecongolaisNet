{
 "metadata": {
  "name": "",
  "signature": "sha256:b9878f53b8e238af93e306a451a27d584e2ba7ca50fb9ccc4cc7d4a5644308d6"
 },
 "nbformat": 3,
 "nbformat_minor": 0,
 "worksheets": [
  {
   "cells": [
    {
     "cell_type": "code",
     "collapsed": false,
     "input": [
      "import yaml"
     ],
     "language": "python",
     "metadata": {},
     "outputs": [],
     "prompt_number": 2
    },
    {
     "cell_type": "code",
     "collapsed": false,
     "input": [
      "from pymongo import MongoClient"
     ],
     "language": "python",
     "metadata": {},
     "outputs": [],
     "prompt_number": 3
    },
    {
     "cell_type": "code",
     "collapsed": false,
     "input": [
      "stream = file('2016-12-04.yml', 'r')"
     ],
     "language": "python",
     "metadata": {},
     "outputs": [],
     "prompt_number": 4
    },
    {
     "cell_type": "code",
     "collapsed": false,
     "input": [
      "pwd"
     ],
     "language": "python",
     "metadata": {},
     "outputs": [
      {
       "metadata": {},
       "output_type": "pyout",
       "prompt_number": 5,
       "text": [
        "u'C:\\\\Lecongolais.net\\\\Lecongolais.net\\\\python_programs\\\\readingNews'"
       ]
      }
     ],
     "prompt_number": 5
    },
    {
     "cell_type": "code",
     "collapsed": false,
     "input": [
      "articles = yaml.load(stream)"
     ],
     "language": "python",
     "metadata": {},
     "outputs": [],
     "prompt_number": 6
    },
    {
     "cell_type": "code",
     "collapsed": false,
     "input": [
      "print type(articles)"
     ],
     "language": "python",
     "metadata": {},
     "outputs": [
      {
       "output_type": "stream",
       "stream": "stdout",
       "text": [
        "<type 'dict'>\n"
       ]
      }
     ],
     "prompt_number": 7
    },
    {
     "cell_type": "code",
     "collapsed": false,
     "input": [
      "print articles"
     ],
     "language": "python",
     "metadata": {},
     "outputs": [
      {
       "output_type": "stream",
       "stream": "stdout",
       "text": [
        "{'article2': {'picture': 'cynthia-mckinney.jpg', 'title': None, 'tweet_message': '#RDC contrat de lobbying de Cynthia Mckinney avec Kabila. Une explication qui ne convainc pas. http://lecongolais.net/?p=2786', 'call_to_action': None, 'link': 'http://lecongolais.net/?p=2786', 'message': u\"RDC-- Mise en point de Dr. Cynthia McKinney au sujet du contrat de lobbying avec le r\\xe9gime Kabila. Alors que Lambert Mende confirme le contract avec l'ancienne S\\xe9natrice Dr Cynthia McKinney pour le lobbying du r\\xe9gime Kabila aux USA, l'int\\xe9ress\\xe9e nie cette relation.  Elle parle de la possibilit\\xe9 d'un traquenard mais n'explicite pas les circonstances qui auraient conduit au montage d'un quelconque pi\\xe8ge, si tel est le cas. Le moins que l'on puisse dire c'est que son explication ne convainc pas encore. Elle ne nie pas \\xe0 cette \\xe9tape une quelconque interaction avec le gouvernement congolais. Elle ne met pas en question les coordonn\\xe9es bancaires fournies dans le document sign\\xe9 par Mr Lambert Mende. Le simple fait d'avoir \\xe9t\\xe9 critique \\xe0 l'endroit du r\\xe9gime de Kabila il y a de cela une dizaine d'ann\\xe9es ne permet pas d'invalider l'existence d'un contrat de lobbying en faveur du r\\xe9gime Kabila et l'authenticit\\xe9 du document \\xe9manant de Mr Lambert Mende.  Lire l'explication peu convaincante de Cynthia McKinney-- http://lecongolais.net/?p=2786. Aimez notre page www.facebook.com/lecongolais.net/ --Nous suivre sur Twitter www.twitter.com/LecongolaisNet (@LecongolaisNet)\", 'original_link': None, 'short_message': u\"RDC-- Mise en point de Dr. Cynthia McKinney au sujet du contrat de lobbying avec le r\\xe9gime Kabila. Alors que Lambert Mende confirme le contract avec l'ancienne S\\xe9natrice Dr Cynthia McKinney pour le lobbying du r\\xe9gime Kabila aux USA, l'int\\xe9ress\\xe9e nie cette relation.  Elle parle de la possibilit\\xe9 d'un traquenard mais n'explicite pas les circonstances qui auraient conduit au montage d'un quelconque pi\\xe8ge, si tel est le cas. Le moins que l'on puisse dire c'est que son explication ne convainc pas encore. Elle ne nie pas \\xe0 cette \\xe9tape une quelconque interaction avec le gouvernement congolais. Elle ne met pas en question les coordonn\\xe9es bancaires fournies dans le document sign\\xe9 par Mr Lambert Mende. Le simple fait d'avoir \\xe9t\\xe9 critique \\xe0 l'endroit du r\\xe9gime de Kabila il y a de cela une dizaine d'ann\\xe9es ne permet pas d'invalider l'existence d'un contrat de lobbying en faveur du r\\xe9gime Kabila et l'authenticit\\xe9 du document \\xe9manant de Mr Lambert Mende.  Lire l'explication peu convaincante de Cynthia McKinney-- http://lecongolais.net/?p=2786. Aimez notre page www.facebook.com/lecongolais.net/ --Nous suivre sur Twitter www.twitter.com/LecongolaisNet (@LecongolaisNet\"}, 'article3': {'picture': 'lobbying-cynthia.jpg', 'title': None, 'tweet_message': u\"#RDC-- Kabila paye 448.000 $ \\xe0 l'ancienne s\\xe9natrice Cynthia McKinney pour faire son lobbying aux USA.http://lecongolais.net/?p=2781\", 'call_to_action': None, 'link': 'http://lecongolais.net/?p=2781', 'message': u\"RDC-- Kabila paye 448.000 $ \\xe0 l'ancienne s\\xe9natrice Cynthia McKinney pour faire son lobbying aux USA. Ainsi que l'atteste le document ci-dessous, le Tr\\xe9sor Public de l'Etat Congolais a eu \\xe0 payer 448.000 dollars \\xe0 l'ancienne s\\xe9natrice Cynthia McKinney  pour des services de lobbying aupr\\xe8s des autorit\\xe9s am\\xe9ricaines. Un montant faramineux pour des services inutiles alors que Joseph Kabila devait simplement se pr\\xe9parer \\xe0 quitter le pouvoir \\xe0 la fin de son mandat constitutionnel. Des si grosses sommes d'argent sont jet\\xe9es par la fen\\xeatre pour assouvir la soif du pouvoir alors que des \\xe9coles, des centres m\\xe9dicaux, des universit\\xe9s croupissent dans la mis\\xe8re et le manque des ressources minimales. Ce document prouve une fois de plus la pr\\xe9dation et le pillage des ressources du Congo, par une multiplicit\\xe9 d'acteurs nationaux et internationaux, au grand dam du peuple congolais longtemps maintenu dans mis\\xe8re la plus noire. Le peuple congolais doit se saisir de ce dossier et demander des comptes au gouvernement, aux \\xe9lus, et \\xe0 tous les b\\xe9n\\xe9ficiaires \\xe9trangers de cette forme subtile de corruption et d\\xe9tournement de l'argent public. Lire plus-- http://lecongolais.net/?p=2781. Aimez notre page www.facebook.com/lecongolais.net/ --Nous suivre sur Twitter www.twitter.com/LecongolaisNet (@LecongolaisNet)\", 'original_link': None, 'short_message': u\"RDC-- Kabila paye 448.000 $ \\xe0 l'ancienne s\\xe9natrice Cynthia McKinney pour faire son lobbying aux USA. Ainsi que l'atteste le document ci-dessous, le Tr\\xe9sor Public de l'Etat Congolais a eu \\xe0 payer 448.000 dollars \\xe0 l'ancienne s\\xe9natrice Cynthia McKinney  pour des services de lobbying aupr\\xe8s des autorit\\xe9s am\\xe9ricaines. Un montant faramineux pour des services inutiles alors que Joseph Kabila devait simplement se pr\\xe9parer \\xe0 quitter le pouvoir \\xe0 la fin de son mandat constitutionnel. Des si grosses sommes d'argent sont jet\\xe9es par la fen\\xeatre pour assouvir la soif du pouvoir alors que des \\xe9coles, des centres m\\xe9dicaux, des universit\\xe9s croupissent dans la mis\\xe8re et le manque des ressources minimales. Ce document prouve une fois de plus la pr\\xe9dation et le pillage des ressources du Congo, par une multiplicit\\xe9 d'acteurs nationaux et internationaux, au grand dam du peuple congolais longtemps maintenu dans mis\\xe8re la plus noire. Le peuple congolais doit se saisir de ce dossier et demander des comptes au gouvernement, aux \\xe9lus, et \\xe0 tous les b\\xe9n\\xe9ficiaires \\xe9trangers de cette forme subtile de corruption et d\\xe9tournement de l'argent public. Lire plus-- http://lecongolais.net/?p=2781. Aimez notre page www.facebook.com/lecongolais.net/ --Nous suivre sur Twitter www.twitter.com/LecongolaisNet (@LecongolaisNet\"}, 'article1': {'picture': None, 'title': None, 'tweet_message': u'#RDC-- La Majorit\\xe9 Pr\\xe9sidentielle ferme la porte des n\\xe9gotiations directes avec le Rassemblement. http://lecongolais.net/?p=2788', 'call_to_action': None, 'link': 'http://lecongolais.net/?p=2788', 'message': u\"RDC-- La Majorit\\xe9 Pr\\xe9sidentielle ferme la porte des n\\xe9gotiations directes avec le Rassemblement pr\\xe9conis\\xe9es par la CENCO. Alors que la CENCO fait retentir la sonnette d'alarme en disant que l'heure est grave et en pr\\xe9conisant des n\\xe9gotiations directes entre la Majorit\\xe9 Pr\\xe9sidentielle et le Rassemblement sur 6 points de divergence esquiss\\xe9s dans son communiqu\\xe9 du 2 D\\xe9cembre 2016, la Majorit\\xe9 Pr\\xe9sidentielle ferme la porte \\xe0 toute nouvelle discussion. Il ne reste plus qu'au peuple congolais de se prendre en charge et de faire usage de l'article 64 de la Constitution qui instruit de faire \\xe9chec \\xe0 tout individu ou groupe d'individus qui prend le pouvoir par la force ou veut l'exercer en violation des dispositions de la Constitution. Le rendez-vous est pris pour le 19 D\\xe9cembre 2016 \\xe0 minuit. Lire plus-- http://lecongolais.net/?p=2788 Aimez notre page www.facebook.com/lecongolais.net/ --Nous suivre sur Twitter www.twitter.com/LecongolaisNet (@LecongolaisNet)\", 'original_link': None, 'short_message': u\"RDC-- La Majorit\\xe9 Pr\\xe9sidentielle ferme la porte des n\\xe9gotiations directes avec le Rassemblement pr\\xe9conis\\xe9es par la CENCO. Alors que la CENCO fait retentir la sonnette d'alarme en disant que l'heure est grave et en pr\\xe9conisant des n\\xe9gotiations directes entre la Majorit\\xe9 Pr\\xe9sidentielle et le Rassemblement sur 6 points de divergence esquiss\\xe9s dans son communiqu\\xe9 du 2 D\\xe9cembre 2016, la Majorit\\xe9 Pr\\xe9sidentielle ferme la porte \\xe0 toute nouvelle discussion. Il ne reste plus qu'au peuple congolais de se prendre en charge et de faire usage de l'article 64 de la Constitution qui instruit de faire \\xe9chec \\xe0 tout individu ou groupe d'individus qui prend le pouvoir par la force ou veut l'exercer en violation des dispositions de la Constitution. Le rendez-vous est pris pour le 19 D\\xe9cembre 2016 \\xe0 minuit. Lire plus-- http://lecongolais.net/?p=2788 Aimez notre page www.facebook.com/lecongolais.net/ --Nous suivre sur Twitter www.twitter.com/LecongolaisNet (@LecongolaisNet\"}, 'article4': {'picture': 'agono-marie-claire2.jpg', 'title': None, 'tweet_message': u\"#RDC-- Sr Clara Agano, une militante des droits de la femme,assassin\\xe9e \\xe0 Bukavu. Demande d'explications.http://lecongolais.net/?p=2773\", 'call_to_action': None, 'link': 'http://lecongolais.net/?p=2773', 'message': u'RDC-- Soeur Clara Agano, une militante des droits de la femme, assassin\\xe9e \\xe0 Bukavu. Nous sommes le 29 novembre 2016. Il est \\xe0 peine 14h 10\\u2019. S\\u0153ur Clara est dans son bureau \\xe0 la paroisse Mater Dei. Elle encadre des jeunes filles avec des cours de rattrapage. Ces filles qui n\\u2019ont pas eu la chance de b\\xe9n\\xe9ficier d\\xe8s leur jeune \\xe2ge de la gratuit\\xe9 de l\\u2019enseignement primaire. Ces filles qui ont rat\\xe9 l\\u2019\\xe9cole \\xe0 cause des travaux m\\xe9nagers parfois obligatoires, ces filles que parfois la coutume a interdit d\\u2019aller \\xe0 l\\u2019\\xe9cole, ces filles qui n\\u2019ont jamais eu quelqu\\u2019un pour les envoyer en classe, bref ces filles avec leur pass\\xe9 difficile, charg\\xe9 et qu\\u2019on ne doit pas juger car nous sommes complices de leur sort. Clara se bat pour qu\\u2019elles \\xe9tudient et acc\\xe8dent au savoir, une importante cl\\xe9 de r\\xe9ussite dans leur vie. Voil\\xe0 comment se pr\\xe9pare la revendication de la parit\\xe9, voil\\xe0 comment on devient h\\xe9ros dans l\\u2019ombre ! Depuis 4 ans, le Centre Madeleine qui encadre ces filles d\\xe9livre des certificats de fin d\\u2019\\xe9tudes primaire et donc par miracle ces filles peuvent faire l\\u2019\\xe9cole secondaire et \\xe9voluer comme les autres. Elles sont l\\xe0 pour certaines \\xe0 hurler leur col\\xe8re et on dirait qu\\u2019on leur a arrach\\xe9 un morceau de leur vie ! Clara a \\xe9t\\xe9 assassin\\xe9e presque devant elles. Elle est morte en pleine exercice de sa fonction. Le criminel est arriv\\xe9 en plein jour. Il a dit venir voir la religieuse pour une inscription \\xe0 l\\u2019\\xe9cole. Quoi de plus normal ? La sentinelle l\\u2019a laiss\\xe9 entrer mais quelques minutes apr\\xe8s, on a entendu un cri. Press\\xe9 de v\\xe9rifier, le m\\xeame homme sortait du bureau en fuyant. Aper\\xe7u, il a \\xe9t\\xe9 neutralis\\xe9 quelques minutes plus tard et c\\u2019est apr\\xe8s qu\\u2019on d\\xe9couvrira Clara gisant par terre avec le couteau encore bien plong\\xe9 dans son cou. Elle respire encore. Des jeunes gens la tirent croyant qu\\u2019elle survivra de ses blessures. Le seul moyen de transport une moto, et Clara ach\\xe8vera sa course quelques minutes plus tard devant le Centre de Sant\\xe9 sans avoir eu la chance d\\u2019\\xeatre sauv\\xe9e. Elle \\xe9tait d\\xe9c\\xe9d\\xe9e. Elle aimait son m\\xe9tier, ses filles, sa vocation. A 40 ans cette vraie actrice des droits de la femme est partie\\u2026 Elle s\\u2019ajoute \\xe0 la longue liste des d\\xe9fenseurs des droits de l\\u2019homme d\\xe9capit\\xe9s dans cette province. D\\u2019o\\xf9 nous vient cette culture d\\u2019\\xe9gorger des gens ? Plonger les couteaux dans les cous des femmes, des religieuses et en plein jour ? Un mode op\\xe9ratoire nouveau probablement avec des ma\\xeetres au milieu de nous. On doit exorciser des telles pratiques. La Population de la ville de Bukavu et particuli\\xe8rement celle de la Paroisse de Mater Dei s\\u2019interroge et veut des explications ! Lire plus-- http://lecongolais.net/?p=2773. Aimez notre page www.facebook.com/lecongolais.net/ --Nous suivre sur Twitter www.twitter.com/LecongolaisNet (@LecongolaisNet)', 'original_link': None, 'short_message': u'RDC-- Soeur Clara Agano, une militante des droits de la femme, assassin\\xe9e \\xe0 Bukavu. Nous sommes le 29 novembre 2016. Il est \\xe0 peine 14h 10\\u2019. S\\u0153ur Clara est dans son bureau \\xe0 la paroisse Mater Dei. Elle encadre des jeunes filles avec des cours de rattrapage. Ces filles qui n\\u2019ont pas eu la chance de b\\xe9n\\xe9ficier d\\xe8s leur jeune \\xe2ge de la gratuit\\xe9 de l\\u2019enseignement primaire. Ces filles qui ont rat\\xe9 l\\u2019\\xe9cole \\xe0 cause des travaux m\\xe9nagers parfois obligatoires, ces filles que parfois la coutume a interdit d\\u2019aller \\xe0 l\\u2019\\xe9cole, ces filles qui n\\u2019ont jamais eu quelqu\\u2019un pour les envoyer en classe, bref ces filles avec leur pass\\xe9 difficile, charg\\xe9 et qu\\u2019on ne doit pas juger car nous sommes complices de leur sort. Clara se bat pour qu\\u2019elles \\xe9tudient et acc\\xe8dent au savoir, une importante cl\\xe9 de r\\xe9ussite dans leur vie. Voil\\xe0 comment se pr\\xe9pare la revendication de la parit\\xe9, voil\\xe0 comment on devient h\\xe9ros dans l\\u2019ombre ! Depuis 4 ans, le Centre Madeleine qui encadre ces filles d\\xe9livre des certificats de fin d\\u2019\\xe9tudes primaire et donc par miracle ces filles peuvent faire l\\u2019\\xe9cole secondaire et \\xe9voluer comme les autres. Elles sont l\\xe0 pour certaines \\xe0 hurler leur col\\xe8re et on dirait qu\\u2019on leur a arrach\\xe9 un morceau de leur vie ! Clara a \\xe9t\\xe9 assassin\\xe9e presque devant elles. Elle est morte en pleine exercice de sa fonction. Le criminel est arriv\\xe9 en plein jour. Il a dit venir voir la religieuse pour une inscription \\xe0 l\\u2019\\xe9cole. Quoi de plus normal ? La sentinelle l\\u2019a laiss\\xe9 entrer mais quelques minutes apr\\xe8s, on a entendu un cri. Press\\xe9 de v\\xe9rifier, le m\\xeame homme sortait du bureau en fuyant. Aper\\xe7u, il a \\xe9t\\xe9 neutralis\\xe9 quelques minutes plus tard et c\\u2019est apr\\xe8s qu\\u2019on d\\xe9couvrira Clara gisant par terre avec le couteau encore bien plong\\xe9 dans son cou. Elle respire encore. Des jeunes gens la tirent croyant qu\\u2019elle survivra de ses blessures. Le seul moyen de transport une moto, et Clara ach\\xe8vera sa course quelques minutes plus tard devant le Centre de Sant\\xe9 sans avoir eu la chance d\\u2019\\xeatre sauv\\xe9e. Elle \\xe9tait d\\xe9c\\xe9d\\xe9e. Elle aimait son m\\xe9tier, ses filles, sa vocation. A 40 ans cette vraie actrice des droits de la femme est partie\\u2026 Elle s\\u2019ajoute \\xe0 la longue liste des d\\xe9fenseurs des droits de l\\u2019homme d\\xe9capit\\xe9s dans cette province. D\\u2019o\\xf9 nous vient cette culture d\\u2019\\xe9gorger des gens ? Plonger les couteaux dans les cous des femmes, des religieuses et en plein jour ? Un mode op\\xe9ratoire nouveau probablement avec des ma\\xeetres au milieu de nous. On doit exorciser des telles pratiques. La Population de la ville de Bukavu et particuli\\xe8rement celle de la Paroisse de Mater Dei s\\u2019interroge et veut des explications ! Lire plus-- http://lecongolais.net/?p=2773. Aimez notre page www.facebook.com/lecongolais.net/ --Nous suivre sur Twitter www.twitter.com/LecongolaisNet (@LecongolaisNet'}, 'article5': {'picture': 'cenco2016-12-02-3.jpg', 'title': None, 'tweet_message': u'#RDC-- La CENCO appelle \\xe0 des n\\xe9gociations directes entre le Rassemblement et la Majorit\\xe9 Pr\\xe9sidentielle.http://lecongolais.net/?p=2766', 'call_to_action': None, 'link': 'http://lecongolais.net/?p=2766', 'message': u\"RDC-- La CENCO appelle \\xe0 des n\\xe9gociations directes entre le Rassemblement et la Majorit\\xe9 Pr\\xe9sidentielle sur les points divergents. La Cenco propose que le Rassemblement et la Majorit\\xe9 Pr\\xe9sidentielle se mettent le plus rapidement possible autour d'une table, en un format r\\xe9duit, pour aplanir les divergences notamment sur 6 questions qui continuent \\xe0 diviser les deux forces politiques et mettent en danger la paix et la s\\xe9curit\\xe9 du pays. Lire le communiqu\\xe9-- http://lecongolais.net/?p=2766. Aimez notre page www.facebook.com/lecongolais.net/ --Nous suivre sur Twitter www.twitter.com/LecongolaisNet (@LecongolaisNet)\", 'original_link': None, 'short_message': u\"RDC-- La CENCO appelle \\xe0 des n\\xe9gociations directes entre le Rassemblement et la Majorit\\xe9 Pr\\xe9sidentielle sur les points divergents. La Cenco propose que le Rassemblement et la Majorit\\xe9 Pr\\xe9sidentielle se mettent le plus rapidement possible autour d'une table, en un format r\\xe9duit, pour aplanir les divergences notamment sur 6 questions qui continuent \\xe0 diviser les deux forces politiques et mettent en danger la paix et la s\\xe9curit\\xe9 du pays. Lire le communiqu\\xe9-- http://lecongolais.net/?p=2766. Aimez notre page www.facebook.com/lecongolais.net/ --Nous suivre sur Twitter www.twitter.com/LecongolaisNet (@LecongolaisNet\"}}\n"
       ]
      }
     ],
     "prompt_number": 8
    },
    {
     "cell_type": "code",
     "collapsed": false,
     "input": [
      "final_articles = []"
     ],
     "language": "python",
     "metadata": {},
     "outputs": [],
     "prompt_number": 9
    },
    {
     "cell_type": "code",
     "collapsed": false,
     "input": [
      "for k, v in articles.iteritems():\n",
      "    final_articles.append(v)\n",
      "print type(final_articles)\n",
      "print final_articles"
     ],
     "language": "python",
     "metadata": {},
     "outputs": [
      {
       "output_type": "stream",
       "stream": "stdout",
       "text": [
        "<type 'list'>\n",
        "[{'picture': 'cynthia-mckinney.jpg', 'title': None, 'tweet_message': '#RDC contrat de lobbying de Cynthia Mckinney avec Kabila. Une explication qui ne convainc pas. http://lecongolais.net/?p=2786', 'call_to_action': None, 'link': 'http://lecongolais.net/?p=2786', 'message': u\"RDC-- Mise en point de Dr. Cynthia McKinney au sujet du contrat de lobbying avec le r\\xe9gime Kabila. Alors que Lambert Mende confirme le contract avec l'ancienne S\\xe9natrice Dr Cynthia McKinney pour le lobbying du r\\xe9gime Kabila aux USA, l'int\\xe9ress\\xe9e nie cette relation.  Elle parle de la possibilit\\xe9 d'un traquenard mais n'explicite pas les circonstances qui auraient conduit au montage d'un quelconque pi\\xe8ge, si tel est le cas. Le moins que l'on puisse dire c'est que son explication ne convainc pas encore. Elle ne nie pas \\xe0 cette \\xe9tape une quelconque interaction avec le gouvernement congolais. Elle ne met pas en question les coordonn\\xe9es bancaires fournies dans le document sign\\xe9 par Mr Lambert Mende. Le simple fait d'avoir \\xe9t\\xe9 critique \\xe0 l'endroit du r\\xe9gime de Kabila il y a de cela une dizaine d'ann\\xe9es ne permet pas d'invalider l'existence d'un contrat de lobbying en faveur du r\\xe9gime Kabila et l'authenticit\\xe9 du document \\xe9manant de Mr Lambert Mende.  Lire l'explication peu convaincante de Cynthia McKinney-- http://lecongolais.net/?p=2786. Aimez notre page www.facebook.com/lecongolais.net/ --Nous suivre sur Twitter www.twitter.com/LecongolaisNet (@LecongolaisNet)\", 'original_link': None, 'short_message': u\"RDC-- Mise en point de Dr. Cynthia McKinney au sujet du contrat de lobbying avec le r\\xe9gime Kabila. Alors que Lambert Mende confirme le contract avec l'ancienne S\\xe9natrice Dr Cynthia McKinney pour le lobbying du r\\xe9gime Kabila aux USA, l'int\\xe9ress\\xe9e nie cette relation.  Elle parle de la possibilit\\xe9 d'un traquenard mais n'explicite pas les circonstances qui auraient conduit au montage d'un quelconque pi\\xe8ge, si tel est le cas. Le moins que l'on puisse dire c'est que son explication ne convainc pas encore. Elle ne nie pas \\xe0 cette \\xe9tape une quelconque interaction avec le gouvernement congolais. Elle ne met pas en question les coordonn\\xe9es bancaires fournies dans le document sign\\xe9 par Mr Lambert Mende. Le simple fait d'avoir \\xe9t\\xe9 critique \\xe0 l'endroit du r\\xe9gime de Kabila il y a de cela une dizaine d'ann\\xe9es ne permet pas d'invalider l'existence d'un contrat de lobbying en faveur du r\\xe9gime Kabila et l'authenticit\\xe9 du document \\xe9manant de Mr Lambert Mende.  Lire l'explication peu convaincante de Cynthia McKinney-- http://lecongolais.net/?p=2786. Aimez notre page www.facebook.com/lecongolais.net/ --Nous suivre sur Twitter www.twitter.com/LecongolaisNet (@LecongolaisNet\"}, {'picture': 'lobbying-cynthia.jpg', 'title': None, 'tweet_message': u\"#RDC-- Kabila paye 448.000 $ \\xe0 l'ancienne s\\xe9natrice Cynthia McKinney pour faire son lobbying aux USA.http://lecongolais.net/?p=2781\", 'call_to_action': None, 'link': 'http://lecongolais.net/?p=2781', 'message': u\"RDC-- Kabila paye 448.000 $ \\xe0 l'ancienne s\\xe9natrice Cynthia McKinney pour faire son lobbying aux USA. Ainsi que l'atteste le document ci-dessous, le Tr\\xe9sor Public de l'Etat Congolais a eu \\xe0 payer 448.000 dollars \\xe0 l'ancienne s\\xe9natrice Cynthia McKinney  pour des services de lobbying aupr\\xe8s des autorit\\xe9s am\\xe9ricaines. Un montant faramineux pour des services inutiles alors que Joseph Kabila devait simplement se pr\\xe9parer \\xe0 quitter le pouvoir \\xe0 la fin de son mandat constitutionnel. Des si grosses sommes d'argent sont jet\\xe9es par la fen\\xeatre pour assouvir la soif du pouvoir alors que des \\xe9coles, des centres m\\xe9dicaux, des universit\\xe9s croupissent dans la mis\\xe8re et le manque des ressources minimales. Ce document prouve une fois de plus la pr\\xe9dation et le pillage des ressources du Congo, par une multiplicit\\xe9 d'acteurs nationaux et internationaux, au grand dam du peuple congolais longtemps maintenu dans mis\\xe8re la plus noire. Le peuple congolais doit se saisir de ce dossier et demander des comptes au gouvernement, aux \\xe9lus, et \\xe0 tous les b\\xe9n\\xe9ficiaires \\xe9trangers de cette forme subtile de corruption et d\\xe9tournement de l'argent public. Lire plus-- http://lecongolais.net/?p=2781. Aimez notre page www.facebook.com/lecongolais.net/ --Nous suivre sur Twitter www.twitter.com/LecongolaisNet (@LecongolaisNet)\", 'original_link': None, 'short_message': u\"RDC-- Kabila paye 448.000 $ \\xe0 l'ancienne s\\xe9natrice Cynthia McKinney pour faire son lobbying aux USA. Ainsi que l'atteste le document ci-dessous, le Tr\\xe9sor Public de l'Etat Congolais a eu \\xe0 payer 448.000 dollars \\xe0 l'ancienne s\\xe9natrice Cynthia McKinney  pour des services de lobbying aupr\\xe8s des autorit\\xe9s am\\xe9ricaines. Un montant faramineux pour des services inutiles alors que Joseph Kabila devait simplement se pr\\xe9parer \\xe0 quitter le pouvoir \\xe0 la fin de son mandat constitutionnel. Des si grosses sommes d'argent sont jet\\xe9es par la fen\\xeatre pour assouvir la soif du pouvoir alors que des \\xe9coles, des centres m\\xe9dicaux, des universit\\xe9s croupissent dans la mis\\xe8re et le manque des ressources minimales. Ce document prouve une fois de plus la pr\\xe9dation et le pillage des ressources du Congo, par une multiplicit\\xe9 d'acteurs nationaux et internationaux, au grand dam du peuple congolais longtemps maintenu dans mis\\xe8re la plus noire. Le peuple congolais doit se saisir de ce dossier et demander des comptes au gouvernement, aux \\xe9lus, et \\xe0 tous les b\\xe9n\\xe9ficiaires \\xe9trangers de cette forme subtile de corruption et d\\xe9tournement de l'argent public. Lire plus-- http://lecongolais.net/?p=2781. Aimez notre page www.facebook.com/lecongolais.net/ --Nous suivre sur Twitter www.twitter.com/LecongolaisNet (@LecongolaisNet\"}, {'picture': None, 'title': None, 'tweet_message': u'#RDC-- La Majorit\\xe9 Pr\\xe9sidentielle ferme la porte des n\\xe9gotiations directes avec le Rassemblement. http://lecongolais.net/?p=2788', 'call_to_action': None, 'link': 'http://lecongolais.net/?p=2788', 'message': u\"RDC-- La Majorit\\xe9 Pr\\xe9sidentielle ferme la porte des n\\xe9gotiations directes avec le Rassemblement pr\\xe9conis\\xe9es par la CENCO. Alors que la CENCO fait retentir la sonnette d'alarme en disant que l'heure est grave et en pr\\xe9conisant des n\\xe9gotiations directes entre la Majorit\\xe9 Pr\\xe9sidentielle et le Rassemblement sur 6 points de divergence esquiss\\xe9s dans son communiqu\\xe9 du 2 D\\xe9cembre 2016, la Majorit\\xe9 Pr\\xe9sidentielle ferme la porte \\xe0 toute nouvelle discussion. Il ne reste plus qu'au peuple congolais de se prendre en charge et de faire usage de l'article 64 de la Constitution qui instruit de faire \\xe9chec \\xe0 tout individu ou groupe d'individus qui prend le pouvoir par la force ou veut l'exercer en violation des dispositions de la Constitution. Le rendez-vous est pris pour le 19 D\\xe9cembre 2016 \\xe0 minuit. Lire plus-- http://lecongolais.net/?p=2788 Aimez notre page www.facebook.com/lecongolais.net/ --Nous suivre sur Twitter www.twitter.com/LecongolaisNet (@LecongolaisNet)\", 'original_link': None, 'short_message': u\"RDC-- La Majorit\\xe9 Pr\\xe9sidentielle ferme la porte des n\\xe9gotiations directes avec le Rassemblement pr\\xe9conis\\xe9es par la CENCO. Alors que la CENCO fait retentir la sonnette d'alarme en disant que l'heure est grave et en pr\\xe9conisant des n\\xe9gotiations directes entre la Majorit\\xe9 Pr\\xe9sidentielle et le Rassemblement sur 6 points de divergence esquiss\\xe9s dans son communiqu\\xe9 du 2 D\\xe9cembre 2016, la Majorit\\xe9 Pr\\xe9sidentielle ferme la porte \\xe0 toute nouvelle discussion. Il ne reste plus qu'au peuple congolais de se prendre en charge et de faire usage de l'article 64 de la Constitution qui instruit de faire \\xe9chec \\xe0 tout individu ou groupe d'individus qui prend le pouvoir par la force ou veut l'exercer en violation des dispositions de la Constitution. Le rendez-vous est pris pour le 19 D\\xe9cembre 2016 \\xe0 minuit. Lire plus-- http://lecongolais.net/?p=2788 Aimez notre page www.facebook.com/lecongolais.net/ --Nous suivre sur Twitter www.twitter.com/LecongolaisNet (@LecongolaisNet\"}, {'picture': 'agono-marie-claire2.jpg', 'title': None, 'tweet_message': u\"#RDC-- Sr Clara Agano, une militante des droits de la femme,assassin\\xe9e \\xe0 Bukavu. Demande d'explications.http://lecongolais.net/?p=2773\", 'call_to_action': None, 'link': 'http://lecongolais.net/?p=2773', 'message': u'RDC-- Soeur Clara Agano, une militante des droits de la femme, assassin\\xe9e \\xe0 Bukavu. Nous sommes le 29 novembre 2016. Il est \\xe0 peine 14h 10\\u2019. S\\u0153ur Clara est dans son bureau \\xe0 la paroisse Mater Dei. Elle encadre des jeunes filles avec des cours de rattrapage. Ces filles qui n\\u2019ont pas eu la chance de b\\xe9n\\xe9ficier d\\xe8s leur jeune \\xe2ge de la gratuit\\xe9 de l\\u2019enseignement primaire. Ces filles qui ont rat\\xe9 l\\u2019\\xe9cole \\xe0 cause des travaux m\\xe9nagers parfois obligatoires, ces filles que parfois la coutume a interdit d\\u2019aller \\xe0 l\\u2019\\xe9cole, ces filles qui n\\u2019ont jamais eu quelqu\\u2019un pour les envoyer en classe, bref ces filles avec leur pass\\xe9 difficile, charg\\xe9 et qu\\u2019on ne doit pas juger car nous sommes complices de leur sort. Clara se bat pour qu\\u2019elles \\xe9tudient et acc\\xe8dent au savoir, une importante cl\\xe9 de r\\xe9ussite dans leur vie. Voil\\xe0 comment se pr\\xe9pare la revendication de la parit\\xe9, voil\\xe0 comment on devient h\\xe9ros dans l\\u2019ombre ! Depuis 4 ans, le Centre Madeleine qui encadre ces filles d\\xe9livre des certificats de fin d\\u2019\\xe9tudes primaire et donc par miracle ces filles peuvent faire l\\u2019\\xe9cole secondaire et \\xe9voluer comme les autres. Elles sont l\\xe0 pour certaines \\xe0 hurler leur col\\xe8re et on dirait qu\\u2019on leur a arrach\\xe9 un morceau de leur vie ! Clara a \\xe9t\\xe9 assassin\\xe9e presque devant elles. Elle est morte en pleine exercice de sa fonction. Le criminel est arriv\\xe9 en plein jour. Il a dit venir voir la religieuse pour une inscription \\xe0 l\\u2019\\xe9cole. Quoi de plus normal ? La sentinelle l\\u2019a laiss\\xe9 entrer mais quelques minutes apr\\xe8s, on a entendu un cri. Press\\xe9 de v\\xe9rifier, le m\\xeame homme sortait du bureau en fuyant. Aper\\xe7u, il a \\xe9t\\xe9 neutralis\\xe9 quelques minutes plus tard et c\\u2019est apr\\xe8s qu\\u2019on d\\xe9couvrira Clara gisant par terre avec le couteau encore bien plong\\xe9 dans son cou. Elle respire encore. Des jeunes gens la tirent croyant qu\\u2019elle survivra de ses blessures. Le seul moyen de transport une moto, et Clara ach\\xe8vera sa course quelques minutes plus tard devant le Centre de Sant\\xe9 sans avoir eu la chance d\\u2019\\xeatre sauv\\xe9e. Elle \\xe9tait d\\xe9c\\xe9d\\xe9e. Elle aimait son m\\xe9tier, ses filles, sa vocation. A 40 ans cette vraie actrice des droits de la femme est partie\\u2026 Elle s\\u2019ajoute \\xe0 la longue liste des d\\xe9fenseurs des droits de l\\u2019homme d\\xe9capit\\xe9s dans cette province. D\\u2019o\\xf9 nous vient cette culture d\\u2019\\xe9gorger des gens ? Plonger les couteaux dans les cous des femmes, des religieuses et en plein jour ? Un mode op\\xe9ratoire nouveau probablement avec des ma\\xeetres au milieu de nous. On doit exorciser des telles pratiques. La Population de la ville de Bukavu et particuli\\xe8rement celle de la Paroisse de Mater Dei s\\u2019interroge et veut des explications ! Lire plus-- http://lecongolais.net/?p=2773. Aimez notre page www.facebook.com/lecongolais.net/ --Nous suivre sur Twitter www.twitter.com/LecongolaisNet (@LecongolaisNet)', 'original_link': None, 'short_message': u'RDC-- Soeur Clara Agano, une militante des droits de la femme, assassin\\xe9e \\xe0 Bukavu. Nous sommes le 29 novembre 2016. Il est \\xe0 peine 14h 10\\u2019. S\\u0153ur Clara est dans son bureau \\xe0 la paroisse Mater Dei. Elle encadre des jeunes filles avec des cours de rattrapage. Ces filles qui n\\u2019ont pas eu la chance de b\\xe9n\\xe9ficier d\\xe8s leur jeune \\xe2ge de la gratuit\\xe9 de l\\u2019enseignement primaire. Ces filles qui ont rat\\xe9 l\\u2019\\xe9cole \\xe0 cause des travaux m\\xe9nagers parfois obligatoires, ces filles que parfois la coutume a interdit d\\u2019aller \\xe0 l\\u2019\\xe9cole, ces filles qui n\\u2019ont jamais eu quelqu\\u2019un pour les envoyer en classe, bref ces filles avec leur pass\\xe9 difficile, charg\\xe9 et qu\\u2019on ne doit pas juger car nous sommes complices de leur sort. Clara se bat pour qu\\u2019elles \\xe9tudient et acc\\xe8dent au savoir, une importante cl\\xe9 de r\\xe9ussite dans leur vie. Voil\\xe0 comment se pr\\xe9pare la revendication de la parit\\xe9, voil\\xe0 comment on devient h\\xe9ros dans l\\u2019ombre ! Depuis 4 ans, le Centre Madeleine qui encadre ces filles d\\xe9livre des certificats de fin d\\u2019\\xe9tudes primaire et donc par miracle ces filles peuvent faire l\\u2019\\xe9cole secondaire et \\xe9voluer comme les autres. Elles sont l\\xe0 pour certaines \\xe0 hurler leur col\\xe8re et on dirait qu\\u2019on leur a arrach\\xe9 un morceau de leur vie ! Clara a \\xe9t\\xe9 assassin\\xe9e presque devant elles. Elle est morte en pleine exercice de sa fonction. Le criminel est arriv\\xe9 en plein jour. Il a dit venir voir la religieuse pour une inscription \\xe0 l\\u2019\\xe9cole. Quoi de plus normal ? La sentinelle l\\u2019a laiss\\xe9 entrer mais quelques minutes apr\\xe8s, on a entendu un cri. Press\\xe9 de v\\xe9rifier, le m\\xeame homme sortait du bureau en fuyant. Aper\\xe7u, il a \\xe9t\\xe9 neutralis\\xe9 quelques minutes plus tard et c\\u2019est apr\\xe8s qu\\u2019on d\\xe9couvrira Clara gisant par terre avec le couteau encore bien plong\\xe9 dans son cou. Elle respire encore. Des jeunes gens la tirent croyant qu\\u2019elle survivra de ses blessures. Le seul moyen de transport une moto, et Clara ach\\xe8vera sa course quelques minutes plus tard devant le Centre de Sant\\xe9 sans avoir eu la chance d\\u2019\\xeatre sauv\\xe9e. Elle \\xe9tait d\\xe9c\\xe9d\\xe9e. Elle aimait son m\\xe9tier, ses filles, sa vocation. A 40 ans cette vraie actrice des droits de la femme est partie\\u2026 Elle s\\u2019ajoute \\xe0 la longue liste des d\\xe9fenseurs des droits de l\\u2019homme d\\xe9capit\\xe9s dans cette province. D\\u2019o\\xf9 nous vient cette culture d\\u2019\\xe9gorger des gens ? Plonger les couteaux dans les cous des femmes, des religieuses et en plein jour ? Un mode op\\xe9ratoire nouveau probablement avec des ma\\xeetres au milieu de nous. On doit exorciser des telles pratiques. La Population de la ville de Bukavu et particuli\\xe8rement celle de la Paroisse de Mater Dei s\\u2019interroge et veut des explications ! Lire plus-- http://lecongolais.net/?p=2773. Aimez notre page www.facebook.com/lecongolais.net/ --Nous suivre sur Twitter www.twitter.com/LecongolaisNet (@LecongolaisNet'}, {'picture': 'cenco2016-12-02-3.jpg', 'title': None, 'tweet_message': u'#RDC-- La CENCO appelle \\xe0 des n\\xe9gociations directes entre le Rassemblement et la Majorit\\xe9 Pr\\xe9sidentielle.http://lecongolais.net/?p=2766', 'call_to_action': None, 'link': 'http://lecongolais.net/?p=2766', 'message': u\"RDC-- La CENCO appelle \\xe0 des n\\xe9gociations directes entre le Rassemblement et la Majorit\\xe9 Pr\\xe9sidentielle sur les points divergents. La Cenco propose que le Rassemblement et la Majorit\\xe9 Pr\\xe9sidentielle se mettent le plus rapidement possible autour d'une table, en un format r\\xe9duit, pour aplanir les divergences notamment sur 6 questions qui continuent \\xe0 diviser les deux forces politiques et mettent en danger la paix et la s\\xe9curit\\xe9 du pays. Lire le communiqu\\xe9-- http://lecongolais.net/?p=2766. Aimez notre page www.facebook.com/lecongolais.net/ --Nous suivre sur Twitter www.twitter.com/LecongolaisNet (@LecongolaisNet)\", 'original_link': None, 'short_message': u\"RDC-- La CENCO appelle \\xe0 des n\\xe9gociations directes entre le Rassemblement et la Majorit\\xe9 Pr\\xe9sidentielle sur les points divergents. La Cenco propose que le Rassemblement et la Majorit\\xe9 Pr\\xe9sidentielle se mettent le plus rapidement possible autour d'une table, en un format r\\xe9duit, pour aplanir les divergences notamment sur 6 questions qui continuent \\xe0 diviser les deux forces politiques et mettent en danger la paix et la s\\xe9curit\\xe9 du pays. Lire le communiqu\\xe9-- http://lecongolais.net/?p=2766. Aimez notre page www.facebook.com/lecongolais.net/ --Nous suivre sur Twitter www.twitter.com/LecongolaisNet (@LecongolaisNet\"}]\n"
       ]
      }
     ],
     "prompt_number": 10
    },
    {
     "cell_type": "code",
     "collapsed": false,
     "input": [
      "from pymongo import MongoClient"
     ],
     "language": "python",
     "metadata": {},
     "outputs": [],
     "prompt_number": 8
    },
    {
     "cell_type": "code",
     "collapsed": false,
     "input": [
      "print type(articles)"
     ],
     "language": "python",
     "metadata": {},
     "outputs": [
      {
       "output_type": "stream",
       "stream": "stdout",
       "text": [
        "<type 'dict'>\n"
       ]
      }
     ],
     "prompt_number": 9
    },
    {
     "cell_type": "code",
     "collapsed": false,
     "input": [
      "client = MongoClient('localhost:27017')"
     ],
     "language": "python",
     "metadata": {},
     "outputs": [],
     "prompt_number": 12
    },
    {
     "cell_type": "code",
     "collapsed": false,
     "input": [
      "mydb = client['news']"
     ],
     "language": "python",
     "metadata": {},
     "outputs": [],
     "prompt_number": 13
    },
    {
     "cell_type": "code",
     "collapsed": false,
     "input": [
      "for article in final_articles:\n",
      "    mydb.articles.insert(article)"
     ],
     "language": "python",
     "metadata": {},
     "outputs": [],
     "prompt_number": 14
    },
    {
     "cell_type": "code",
     "collapsed": false,
     "input": [
      "results = mydb.articles.find()"
     ],
     "language": "python",
     "metadata": {},
     "outputs": [],
     "prompt_number": 16
    },
    {
     "cell_type": "code",
     "collapsed": false,
     "input": [
      "print results"
     ],
     "language": "python",
     "metadata": {},
     "outputs": [
      {
       "output_type": "stream",
       "stream": "stdout",
       "text": [
        "<pymongo.cursor.Cursor object at 0x03331850>\n"
       ]
      }
     ],
     "prompt_number": 17
    },
    {
     "cell_type": "code",
     "collapsed": false,
     "input": [
      "import datetime"
     ],
     "language": "python",
     "metadata": {},
     "outputs": [],
     "prompt_number": 1
    },
    {
     "cell_type": "code",
     "collapsed": false,
     "input": [
      "mydate = datetime.datetime(2016,12,4,0,0,0)"
     ],
     "language": "python",
     "metadata": {},
     "outputs": [],
     "prompt_number": 11
    },
    {
     "cell_type": "code",
     "collapsed": false,
     "input": [
      "print mydate"
     ],
     "language": "python",
     "metadata": {},
     "outputs": [
      {
       "output_type": "stream",
       "stream": "stdout",
       "text": [
        "2016-12-04 00:00:00\n"
       ]
      }
     ],
     "prompt_number": 12
    },
    {
     "cell_type": "code",
     "collapsed": false,
     "input": [
      "import os"
     ],
     "language": "python",
     "metadata": {},
     "outputs": [],
     "prompt_number": 1
    },
    {
     "cell_type": "code",
     "collapsed": false,
     "input": [
      "folderFiles = os.listdir('.')"
     ],
     "language": "python",
     "metadata": {},
     "outputs": [],
     "prompt_number": 2
    },
    {
     "cell_type": "code",
     "collapsed": false,
     "input": [
      "print folderFiles"
     ],
     "language": "python",
     "metadata": {},
     "outputs": [
      {
       "output_type": "stream",
       "stream": "stdout",
       "text": [
        "['.ipynb_checkpoints', '2016-11-14.yml', '2016-11-17-tweets.yml', '2016-11-29.yml', '2016-12-01.yml', '2016-12-04', '2016-12-04.yml', 'rdc-sites-2017-08-15.txt', 'Untitled0.ipynb']\n"
       ]
      }
     ],
     "prompt_number": 3
    },
    {
     "cell_type": "code",
     "collapsed": false,
     "input": [
      "article = {}"
     ],
     "language": "python",
     "metadata": {},
     "outputs": [],
     "prompt_number": 4
    },
    {
     "cell_type": "code",
     "collapsed": false,
     "input": [
      "article[\"title\"] = \"I am nice\""
     ],
     "language": "python",
     "metadata": {},
     "outputs": [],
     "prompt_number": 5
    },
    {
     "cell_type": "code",
     "collapsed": false,
     "input": [
      "article[\"author\"] = \"Eddy\""
     ],
     "language": "python",
     "metadata": {},
     "outputs": [],
     "prompt_number": 6
    },
    {
     "cell_type": "code",
     "collapsed": false,
     "input": [
      "print article"
     ],
     "language": "python",
     "metadata": {},
     "outputs": [
      {
       "output_type": "stream",
       "stream": "stdout",
       "text": [
        "{'author': 'Eddy', 'title': 'I am nice'}\n"
       ]
      }
     ],
     "prompt_number": 7
    },
    {
     "cell_type": "code",
     "collapsed": false,
     "input": [
      "article[\"date_published\"] = \"\""
     ],
     "language": "python",
     "metadata": {},
     "outputs": [],
     "prompt_number": 8
    },
    {
     "cell_type": "code",
     "collapsed": false,
     "input": [
      "import datetime"
     ],
     "language": "python",
     "metadata": {},
     "outputs": [],
     "prompt_number": 9
    },
    {
     "cell_type": "code",
     "collapsed": false,
     "input": [
      "article[\"date_published\"] = datetime.datetime.now()"
     ],
     "language": "python",
     "metadata": {},
     "outputs": [],
     "prompt_number": 10
    },
    {
     "cell_type": "code",
     "collapsed": false,
     "input": [
      "print article"
     ],
     "language": "python",
     "metadata": {},
     "outputs": [
      {
       "output_type": "stream",
       "stream": "stdout",
       "text": [
        "{'date_published': datetime.datetime(2017, 9, 1, 2, 23, 24, 587000), 'author': 'Eddy', 'title': 'I am nice'}\n"
       ]
      }
     ],
     "prompt_number": 11
    },
    {
     "cell_type": "code",
     "collapsed": false,
     "input": [
      "article[\"date_published\"]"
     ],
     "language": "python",
     "metadata": {},
     "outputs": [
      {
       "metadata": {},
       "output_type": "pyout",
       "prompt_number": 12,
       "text": [
        "datetime.datetime(2017, 9, 1, 2, 23, 24, 587000)"
       ]
      }
     ],
     "prompt_number": 12
    },
    {
     "cell_type": "code",
     "collapsed": false,
     "input": [
      "filename = \"2016-12-04.yml\""
     ],
     "language": "python",
     "metadata": {},
     "outputs": [],
     "prompt_number": 13
    },
    {
     "cell_type": "code",
     "collapsed": false,
     "input": [
      "year = filename[0:4]"
     ],
     "language": "python",
     "metadata": {},
     "outputs": [],
     "prompt_number": 14
    },
    {
     "cell_type": "code",
     "collapsed": false,
     "input": [
      "print year"
     ],
     "language": "python",
     "metadata": {},
     "outputs": [
      {
       "output_type": "stream",
       "stream": "stdout",
       "text": [
        "2016\n"
       ]
      }
     ],
     "prompt_number": 15
    },
    {
     "cell_type": "code",
     "collapsed": false,
     "input": [
      "month = filename[5:7]"
     ],
     "language": "python",
     "metadata": {},
     "outputs": [],
     "prompt_number": 16
    },
    {
     "cell_type": "code",
     "collapsed": false,
     "input": [
      "print month"
     ],
     "language": "python",
     "metadata": {},
     "outputs": [
      {
       "output_type": "stream",
       "stream": "stdout",
       "text": [
        "12\n"
       ]
      }
     ],
     "prompt_number": 17
    },
    {
     "cell_type": "code",
     "collapsed": false,
     "input": [
      "day = filename[8:10]"
     ],
     "language": "python",
     "metadata": {},
     "outputs": [],
     "prompt_number": 18
    },
    {
     "cell_type": "code",
     "collapsed": false,
     "input": [
      "print day"
     ],
     "language": "python",
     "metadata": {},
     "outputs": [
      {
       "output_type": "stream",
       "stream": "stdout",
       "text": [
        "04\n"
       ]
      }
     ],
     "prompt_number": 19
    },
    {
     "cell_type": "code",
     "collapsed": false,
     "input": [
      "article[\"date_published\"] = datetime.datetime(year, month, day, 0, 0, 0)"
     ],
     "language": "python",
     "metadata": {},
     "outputs": [
      {
       "ename": "TypeError",
       "evalue": "an integer is required",
       "output_type": "pyerr",
       "traceback": [
        "\u001b[1;31m---------------------------------------------------------------------------\u001b[0m\n\u001b[1;31mTypeError\u001b[0m                                 Traceback (most recent call last)",
        "\u001b[1;32m<ipython-input-20-57c2dd97f401>\u001b[0m in \u001b[0;36m<module>\u001b[1;34m()\u001b[0m\n\u001b[1;32m----> 1\u001b[1;33m \u001b[0marticle\u001b[0m\u001b[1;33m[\u001b[0m\u001b[1;34m\"date_published\"\u001b[0m\u001b[1;33m]\u001b[0m \u001b[1;33m=\u001b[0m \u001b[0mdatetime\u001b[0m\u001b[1;33m.\u001b[0m\u001b[0mdatetime\u001b[0m\u001b[1;33m(\u001b[0m\u001b[0myear\u001b[0m\u001b[1;33m,\u001b[0m \u001b[0mmonth\u001b[0m\u001b[1;33m,\u001b[0m \u001b[0mday\u001b[0m\u001b[1;33m,\u001b[0m \u001b[1;36m0\u001b[0m\u001b[1;33m,\u001b[0m \u001b[1;36m0\u001b[0m\u001b[1;33m,\u001b[0m \u001b[1;36m0\u001b[0m\u001b[1;33m)\u001b[0m\u001b[1;33m\u001b[0m\u001b[0m\n\u001b[0m",
        "\u001b[1;31mTypeError\u001b[0m: an integer is required"
       ]
      }
     ],
     "prompt_number": 20
    },
    {
     "cell_type": "code",
     "collapsed": false,
     "input": [
      "new_year = int(year)"
     ],
     "language": "python",
     "metadata": {},
     "outputs": [],
     "prompt_number": 21
    },
    {
     "cell_type": "code",
     "collapsed": false,
     "input": [
      "new_month = int(month)"
     ],
     "language": "python",
     "metadata": {},
     "outputs": [],
     "prompt_number": 22
    },
    {
     "cell_type": "code",
     "collapsed": false,
     "input": [
      "new_day = int(day)"
     ],
     "language": "python",
     "metadata": {},
     "outputs": [],
     "prompt_number": 23
    },
    {
     "cell_type": "code",
     "collapsed": false,
     "input": [
      "article[\"date_published\"] = datetime.datetime(new_year, new_month, new_day, 0, 0, 0)"
     ],
     "language": "python",
     "metadata": {},
     "outputs": [],
     "prompt_number": 24
    },
    {
     "cell_type": "code",
     "collapsed": false,
     "input": [
      "print article"
     ],
     "language": "python",
     "metadata": {},
     "outputs": [
      {
       "output_type": "stream",
       "stream": "stdout",
       "text": [
        "{'date_published': datetime.datetime(2016, 12, 4, 0, 0), 'author': 'Eddy', 'title': 'I am nice'}\n"
       ]
      }
     ],
     "prompt_number": 25
    },
    {
     "cell_type": "code",
     "collapsed": false,
     "input": [],
     "language": "python",
     "metadata": {},
     "outputs": []
    }
   ],
   "metadata": {}
  }
 ]
}